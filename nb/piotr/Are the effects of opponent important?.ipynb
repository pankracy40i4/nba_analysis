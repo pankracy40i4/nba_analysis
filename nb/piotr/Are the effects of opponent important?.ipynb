{
 "cells": [
  {
   "cell_type": "markdown",
   "metadata": {},
   "source": [
    "# Simple analysis: compare deviations for different pairs"
   ]
  },
  {
   "cell_type": "code",
   "execution_count": 1,
   "metadata": {},
   "outputs": [],
   "source": [
    "%matplotlib inline\n",
    "\n",
    "import pandas as pd\n",
    "import matplotlib\n",
    "import numpy as np\n",
    "import matplotlib.pyplot as plt\n",
    "from sklearn.manifold import TSNE"
   ]
  },
  {
   "cell_type": "markdown",
   "metadata": {},
   "source": [
    "# Deviation for games in the same season between the same teams "
   ]
  },
  {
   "cell_type": "code",
   "execution_count": 35,
   "metadata": {},
   "outputs": [
    {
     "data": {
      "text/plain": [
       "count    3472.000000\n",
       "mean        8.847560\n",
       "std         5.450680\n",
       "min         0.000000\n",
       "25%         4.949747\n",
       "50%         8.182807\n",
       "75%        12.165525\n",
       "max        36.062446\n",
       "Name: FT_PTS, dtype: float64"
      ]
     },
     "execution_count": 35,
     "metadata": {},
     "output_type": "execute_result"
    }
   ],
   "source": [
    "df = pd.read_csv('../../teams.csv')\n",
    "\n",
    "df['season'] = (df.GAME_ID/100000).map(int)\n",
    "df = df.loc[df.season<217]\n",
    "col_groupby = ['TEAM','TEAM_opp','season']\n",
    "# df.groupby(col_groupby)[['FT_PTS','FT_PTS_opp']].describe() \n",
    "df.groupby(col_groupby)['FT_PTS'].std().describe()"
   ]
  },
  {
   "cell_type": "markdown",
   "metadata": {},
   "source": [
    "# Average deviation accros all games per season"
   ]
  },
  {
   "cell_type": "code",
   "execution_count": 48,
   "metadata": {},
   "outputs": [
    {
     "data": {
      "text/plain": [
       "season\n",
       "213    11.524956\n",
       "214    11.372010\n",
       "215    11.400446\n",
       "216    11.859953\n",
       "Name: FT_PTS, dtype: float64"
      ]
     },
     "execution_count": 48,
     "metadata": {},
     "output_type": "execute_result"
    }
   ],
   "source": [
    "df.groupby('season').FT_PTS.std()"
   ]
  },
  {
   "cell_type": "markdown",
   "metadata": {},
   "source": [
    "# Average deviation accros all games per season for the same team and all opponents\n"
   ]
  },
  {
   "cell_type": "code",
   "execution_count": 47,
   "metadata": {},
   "outputs": [
    {
     "data": {
      "text/plain": [
       "count    3472.000000\n",
       "mean        8.847560\n",
       "std         5.450680\n",
       "min         0.000000\n",
       "25%         4.949747\n",
       "50%         8.182807\n",
       "75%        12.165525\n",
       "max        36.062446\n",
       "Name: FT_PTS, dtype: float64"
      ]
     },
     "execution_count": 47,
     "metadata": {},
     "output_type": "execute_result"
    }
   ],
   "source": [
    "col_groupby = ['TEAM','TEAM_opp','season']\n",
    "# df.groupby(col_groupby)[['FT_PTS','FT_PTS_opp']].describe() \n",
    "df.groupby(col_groupby)['FT_PTS'].std().describe()"
   ]
  }
 ],
 "metadata": {
  "kernelspec": {
   "display_name": "Python 3",
   "language": "python",
   "name": "python3"
  },
  "language_info": {
   "codemirror_mode": {
    "name": "ipython",
    "version": 3
   },
   "file_extension": ".py",
   "mimetype": "text/x-python",
   "name": "python",
   "nbconvert_exporter": "python",
   "pygments_lexer": "ipython3",
   "version": "3.6.5"
  }
 },
 "nbformat": 4,
 "nbformat_minor": 2
}
